{
 "cells": [
  {
   "cell_type": "code",
   "execution_count": 15,
   "id": "3259bc96",
   "metadata": {},
   "outputs": [
    {
     "name": "stdout",
     "output_type": "stream",
     "text": [
      "The number of pairs whose sum is 10 are:  2\n"
     ]
    }
   ],
   "source": [
    "def sum_10():\n",
    "    count=0\n",
    "    list = [2,7,4,1,3,6] \n",
    "    for i in list: \n",
    "        for j in list:\n",
    "            if i+j == 10: #Checking for the pairs with sum 10\n",
    "                count = count + 1\n",
    "            else:\n",
    "                continue\n",
    "    return count\n",
    "\n",
    "b = sum_10() #Calling the function\n",
    "print(\"The number of pairs whose sum is 10 are: \",int(b / 2)) #Dividing the count by 2 because the pairs will get counted twice\n",
    "    \n",
    "\n"
   ]
  },
  {
   "cell_type": "code",
   "execution_count": 54,
   "id": "43adc583",
   "metadata": {},
   "outputs": [
    {
     "name": "stdout",
     "output_type": "stream",
     "text": [
      "Enter elements of the list separated by space: 1 2 3 4 5\n"
     ]
    },
    {
     "ename": "TypeError",
     "evalue": "'list' object is not callable",
     "output_type": "error",
     "traceback": [
      "\u001b[1;31m---------------------------------------------------------------------------\u001b[0m",
      "\u001b[1;31mTypeError\u001b[0m                                 Traceback (most recent call last)",
      "Cell \u001b[1;32mIn[54], line 28\u001b[0m\n\u001b[0;32m     23\u001b[0m     \u001b[38;5;28;01mreturn\u001b[39;00m find_max(lst)\u001b[38;5;241m-\u001b[39mfind_min(lst)\n\u001b[0;32m     27\u001b[0m input_str \u001b[38;5;241m=\u001b[39m \u001b[38;5;28minput\u001b[39m(\u001b[38;5;124m\"\u001b[39m\u001b[38;5;124mEnter elements of the list separated by space: \u001b[39m\u001b[38;5;124m\"\u001b[39m)  \n\u001b[1;32m---> 28\u001b[0m lst \u001b[38;5;241m=\u001b[39m lst(\u001b[38;5;28mmap\u001b[39m(\u001b[38;5;28mint\u001b[39m, input_str\u001b[38;5;241m.\u001b[39msplit()))  \n\u001b[0;32m     30\u001b[0m \u001b[38;5;66;03m# Checking if the list has at least 3 elements\u001b[39;00m\n\u001b[0;32m     31\u001b[0m \u001b[38;5;28;01mif\u001b[39;00m \u001b[38;5;28mlen\u001b[39m(lst) \u001b[38;5;241m<\u001b[39m \u001b[38;5;241m3\u001b[39m:\n",
      "\u001b[1;31mTypeError\u001b[0m: 'list' object is not callable"
     ]
    }
   ],
   "source": [
    "def find_max(lst):\n",
    "    #Initializing the maximum element with the first element of the list\n",
    "    max=lst[0]\n",
    "    #Finding the maximum elememt\n",
    "    for i in lst:\n",
    "        if max>i:\n",
    "            max=i\n",
    "    #Returning the maximum value \n",
    "    return max\n",
    "            \n",
    "def find_min(lst):\n",
    "    #Initializing the minimum element with the first element of the list\n",
    "    min=lst[0]\n",
    "    #Finding the minimum elememt\n",
    "    for i in lst:\n",
    "        if min<i:\n",
    "            min=i\n",
    "    #Returning the maximum value \n",
    "    return min\n",
    "    \n",
    "def find_range(lst):\n",
    "    #Finding the range by subtracting the maximum and minimum and returning it\n",
    "    return find_max(lst)-find_min(lst)\n",
    "\n",
    "\n",
    "\n",
    "input_str = input(\"Enter elements of the list separated by space: \")  \n",
    "lst = list(map(int, input_str.split()))  \n",
    "\n",
    "# Checking if the list has at least 3 elements\n",
    "if len(lst) < 3:\n",
    "    print(\"Range determination not possible\")\n",
    "else:\n",
    "    print(\"Range:\", find_range(lst))\n"
   ]
  },
  {
   "cell_type": "code",
   "execution_count": 52,
   "id": "a64cf97d",
   "metadata": {},
   "outputs": [
    {
     "name": "stdout",
     "output_type": "stream",
     "text": [
      "Matrix Exponentiation Program\n",
      "Enter the size of the square matrix (n): 3\n",
      "Enter the matrix elements row by row, separated by spaces:\n"
     ]
    },
    {
     "ename": "TypeError",
     "evalue": "'int' object is not iterable",
     "output_type": "error",
     "traceback": [
      "\u001b[1;31m---------------------------------------------------------------------------\u001b[0m",
      "\u001b[1;31mTypeError\u001b[0m                                 Traceback (most recent call last)",
      "Cell \u001b[1;32mIn[52], line 54\u001b[0m\n\u001b[0;32m     50\u001b[0m             \u001b[38;5;28mprint\u001b[39m(\u001b[38;5;124mf\u001b[39m\u001b[38;5;124m\"\u001b[39m\u001b[38;5;124mError: \u001b[39m\u001b[38;5;132;01m{\u001b[39;00me\u001b[38;5;132;01m}\u001b[39;00m\u001b[38;5;124m. Please enter a positive integer.\u001b[39m\u001b[38;5;124m\"\u001b[39m)\n\u001b[0;32m     52\u001b[0m \u001b[38;5;28mprint\u001b[39m(\u001b[38;5;124m\"\u001b[39m\u001b[38;5;124mMatrix Exponentiation Program\u001b[39m\u001b[38;5;124m\"\u001b[39m)\n\u001b[1;32m---> 54\u001b[0m matrix \u001b[38;5;241m=\u001b[39m get_matrix_input()\n\u001b[0;32m     55\u001b[0m \u001b[38;5;28;01mif\u001b[39;00m matrix \u001b[38;5;129;01mis\u001b[39;00m \u001b[38;5;129;01mnot\u001b[39;00m \u001b[38;5;28;01mNone\u001b[39;00m:\n\u001b[0;32m     56\u001b[0m     exponent \u001b[38;5;241m=\u001b[39m get_integer_input(\u001b[38;5;124m\"\u001b[39m\u001b[38;5;124mEnter the positive integer m: \u001b[39m\u001b[38;5;124m\"\u001b[39m)\n",
      "Cell \u001b[1;32mIn[52], line 30\u001b[0m, in \u001b[0;36mget_matrix_input\u001b[1;34m()\u001b[0m\n\u001b[0;32m     28\u001b[0m matrix \u001b[38;5;241m=\u001b[39m []\n\u001b[0;32m     29\u001b[0m \u001b[38;5;28mprint\u001b[39m(\u001b[38;5;124m\"\u001b[39m\u001b[38;5;124mEnter the matrix elements row by row, separated by spaces:\u001b[39m\u001b[38;5;124m\"\u001b[39m)\n\u001b[1;32m---> 30\u001b[0m \u001b[38;5;28;01mfor\u001b[39;00m i \u001b[38;5;129;01min\u001b[39;00m \u001b[38;5;28mrange\u001b[39m(n):\n\u001b[0;32m     31\u001b[0m     row \u001b[38;5;241m=\u001b[39m \u001b[38;5;28mlist\u001b[39m(\u001b[38;5;28mmap\u001b[39m(\u001b[38;5;28mfloat\u001b[39m, \u001b[38;5;28minput\u001b[39m()\u001b[38;5;241m.\u001b[39msplit()))\n\u001b[0;32m     32\u001b[0m     \u001b[38;5;28;01mif\u001b[39;00m \u001b[38;5;28mlen\u001b[39m(row) \u001b[38;5;241m!=\u001b[39m n:\n",
      "\u001b[1;31mTypeError\u001b[0m: 'int' object is not iterable"
     ]
    }
   ],
   "source": [
    "def matrix_multiply(A, B):\n",
    "    n = len(A)\n",
    "    result = [[0] * n for _ in range(n)]\n",
    "   \n",
    "    for i in range(n):\n",
    "        for j in range(n):\n",
    "            result[i][j] = sum(A[i][k] * B[k][j] for k in range(n))\n",
    "   \n",
    "    return result\n",
    "\n",
    "def matrix_power(A, m):\n",
    "    if m < 1:\n",
    "        raise ValueError(\"The exponent m must be a positive integer.\")\n",
    "    n = len(A)\n",
    "    result = [[1 if i == j else 0 for j in range(n)] for i in range(n)]\n",
    "    base = A\n",
    "    while m > 0:\n",
    "        if m % 2 == 1:\n",
    "            result = matrix_multiply(result, base)\n",
    "        base = matrix_multiply(base, base)\n",
    "        m //= 2\n",
    "   \n",
    "    return result\n",
    "\n",
    "def get_matrix_input():\n",
    "    try:\n",
    "        n = int(input(\"Enter the size of the square matrix (n): \"))\n",
    "        matrix = []\n",
    "        print(\"Enter the matrix elements row by row, separated by spaces:\")\n",
    "        for i in range(n):\n",
    "            row = list(map(float, input().split()))\n",
    "            if len(row) != n:\n",
    "                raise ValueError(f\"Each row must have exactly {n} elements.\")\n",
    "            matrix.append(row)\n",
    "       \n",
    "        return matrix\n",
    "    except ValueError as e:\n",
    "        print(f\"Error: {e}\")\n",
    "        return None\n",
    "\n",
    "def get_integer_input(prompt):\n",
    "   \n",
    "    while True:\n",
    "        try:\n",
    "            value = int(input(prompt))\n",
    "            if value <= 0:\n",
    "                raise ValueError(\"The integer must be positive.\")\n",
    "            return value\n",
    "        except ValueError as e:\n",
    "            print(f\"Error: {e}. Please enter a positive integer.\")\n",
    "\n",
    "print(\"Matrix Exponentiation Program\")\n",
    "\n",
    "matrix = get_matrix_input()\n",
    "if matrix is not None:\n",
    "    exponent = get_integer_input(\"Enter the positive integer m: \")\n",
    "   \n",
    "    try:\n",
    "        result = matrix_power(matrix, exponent)\n",
    "        print(\"Matrix A^m is:\")\n",
    "        for row in result:\n",
    "            print(\" \".join(map(str, row)))\n",
    "    except ValueError as e:\n",
    "        print(f\"Error: {e}\")"
   ]
  },
  {
   "cell_type": "code",
   "execution_count": 48,
   "id": "17c5d47b",
   "metadata": {},
   "outputs": [
    {
     "name": "stdout",
     "output_type": "stream",
     "text": [
      "Enter a string: sratva\n",
      "The max repeating letter is 'a' with count 2.\n"
     ]
    }
   ],
   "source": [
    "def letter_count(x):\n",
    "    letter_counts = {}\n",
    "    \n",
    "    for i in x:\n",
    "       \n",
    "        if i.isalpha():\n",
    "            i = i.lower()\n",
    "           \n",
    "            if i in letter_counts:\n",
    "                letter_counts[i] += 1\n",
    "            else:\n",
    "                letter_counts[i] = 1\n",
    "\n",
    "    most_common_letter = None\n",
    "    max_count = 0\n",
    "    \n",
    "    for letter, count in letter_counts.items():\n",
    "        if count > max_count:\n",
    "            max_count = count\n",
    "            most_common_letter = letter\n",
    "            \n",
    "    return most_common_letter, max_count\n",
    "\n",
    "x = input(\"Enter a string: \")\n",
    "letter, count = letter_count(x)\n",
    "print(f\"The max repeating letter is '{letter}' with count {count}.\")\n"
   ]
  },
  {
   "cell_type": "code",
   "execution_count": null,
   "id": "6cbdd8b4",
   "metadata": {},
   "outputs": [],
   "source": []
  }
 ],
 "metadata": {
  "kernelspec": {
   "display_name": "Python 3 (ipykernel)",
   "language": "python",
   "name": "python3"
  },
  "language_info": {
   "codemirror_mode": {
    "name": "ipython",
    "version": 3
   },
   "file_extension": ".py",
   "mimetype": "text/x-python",
   "name": "python",
   "nbconvert_exporter": "python",
   "pygments_lexer": "ipython3",
   "version": "3.11.4"
  }
 },
 "nbformat": 4,
 "nbformat_minor": 5
}
