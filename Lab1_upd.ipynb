{
 "cells": [
  {
   "cell_type": "code",
   "execution_count": 6,
   "id": "99dc7e9f-665d-481b-ae52-b7635ca3832b",
   "metadata": {},
   "outputs": [
    {
     "name": "stdin",
     "output_type": "stream",
     "text": [
      "Enter elements of the list separated by space:  23 3.45 56 6.7\n"
     ]
    },
    {
     "name": "stdout",
     "output_type": "stream",
     "text": [
      "Range: 52.55\n"
     ]
    }
   ],
   "source": [
    "#Write a program that takes a list of real numbers as input and returns the range of the list. Check for the list being less than 3 elements in which case return an error message\n",
    "def find_max(lst):\n",
    "    #Initializing the maximum element with the first element of the list\n",
    "    max=lst[0]\n",
    "    #Finding the maximum elememt\n",
    "    for i in lst:\n",
    "        if max<i:\n",
    "            max=i\n",
    "    #Returning the maximum value \n",
    "    return max\n",
    "            \n",
    "def find_min(lst):\n",
    "    #Initializing the minimum element with the first element of the list\n",
    "    min=lst[0]\n",
    "    #Finding the minimum elememt\n",
    "    for i in lst:\n",
    "        if min>i:\n",
    "            min=i\n",
    "    #Returning the maximum value \n",
    "    return min\n",
    "    \n",
    "def find_range(lst):\n",
    "    #Finding the range by subtracting the maximum and minimum and returning it\n",
    "    return find_max(lst)-find_min(lst)\n",
    "\n",
    "\n",
    "\n",
    "input_str = input(\"Enter elements of the list separated by space: \")  \n",
    "lst = list(map(float, input_str.split()))  \n",
    "\n",
    "# Checking if the list has at least 3 elements\n",
    "if len(lst) < 3:\n",
    "    print(\"Range determination not possible\")\n",
    "else:\n",
    "    print(\"Range:\", find_range(lst))"
   ]
  },
  {
   "cell_type": "code",
   "execution_count": 4,
   "id": "17c127da-acb5-4690-9951-cd19e28018fc",
   "metadata": {},
   "outputs": [
    {
     "name": "stdout",
     "output_type": "stream",
     "text": [
      "Matrix Exponentiation Program\n"
     ]
    },
    {
     "name": "stdin",
     "output_type": "stream",
     "text": [
      "Enter the size of the square matrix (n):  3\n"
     ]
    },
    {
     "name": "stdout",
     "output_type": "stream",
     "text": [
      "Enter the matrix elements row by row, separated by spaces:\n"
     ]
    },
    {
     "name": "stdin",
     "output_type": "stream",
     "text": [
      " 1 2 3\n",
      " 4 5 6\n",
      " 7 8 9\n",
      "Enter the positive integer m:  2\n"
     ]
    },
    {
     "name": "stdout",
     "output_type": "stream",
     "text": [
      "Matrix A^m is:\n",
      "30.0 36.0 42.0\n",
      "66.0 81.0 96.0\n",
      "102.0 126.0 150.0\n"
     ]
    }
   ],
   "source": [
    "#Write a program that accepts a square matrix A and a positve integer m as argument and returns A^m\n",
    "def matrix_multiply(A, B):\n",
    "    n = len(A)\n",
    "    #Creating a matrix with size n*n and assigns all the elements as 0\n",
    "    result = [[0] * n for _ in range(n)]\n",
    "    #Matrix multiplication\n",
    "    for i in range(n):\n",
    "        for j in range(n):\n",
    "            result[i][j] = sum(A[i][k] * B[k][j] for k in range(n))\n",
    "    return result\n",
    "\n",
    "def matrix_power(A, m):\n",
    "    #Terminating condition for the function call of the matrix_multiply function\n",
    "    if m < 1:\n",
    "        raise ValueError(\"The exponent m must be a positive integer.\")\n",
    "    n = len(A)\n",
    "    #Assigning an identity matrix with size n*n to initialize result\n",
    "    result = [[1 if i == j else 0 for j in range(n)] for i in range(n)]\n",
    "    base = A\n",
    "    while m > 0:\n",
    "        if m % 2 == 1:\n",
    "            #If the power is odd, matrix A is multiplied with the result of the previous computation via recursion. When m==1, the matrix A is multiplied with the identity matrix\n",
    "            result = matrix_multiply(result, base)\n",
    "        #If the power is even, the matrix is multiplied by itself or its result matrice is multiplied by itself\n",
    "        base = matrix_multiply(base, base)\n",
    "        m //= 2\n",
    "    return result\n",
    "\n",
    "def get_matrix_input():\n",
    "    try:\n",
    "        n = int(input(\"Enter the size of the square matrix (n): \"))\n",
    "        matrix = []\n",
    "        print(\"Enter the matrix elements row by row, separated by spaces:\")\n",
    "        for i in range(n):\n",
    "            #Creating a matrix with the given inputs\n",
    "            row = list(map(float, input().split()))\n",
    "            #Checking if right input is given\n",
    "            if len(row) != n:\n",
    "                raise ValueError(f\"Each row must have exactly {n} elements.\")\n",
    "            matrix.append(row)\n",
    "       \n",
    "        return matrix\n",
    "    except ValueError as e:\n",
    "        print(f\"Error: {e}\")\n",
    "        return None\n",
    "        \n",
    "def get_integer_input(prompt):  \n",
    "    #Inputting the power to which the matrix is to be raised and checking if its positive\n",
    "    while True:\n",
    "        try:\n",
    "            value = int(input(prompt))\n",
    "            if value <= 0:\n",
    "                raise ValueError(\"The integer must be positive.\")\n",
    "            return value\n",
    "        except ValueError as e:\n",
    "            print(f\"Error: {e}. Please enter a positive integer.\")\n",
    "\n",
    "print(\"Matrix Exponentiation Program\")\n",
    "\n",
    "matrix = get_matrix_input()\n",
    "if matrix is not None:\n",
    "    exponent = get_integer_input(\"Enter the positive integer m: \")\n",
    "   \n",
    "    try:\n",
    "        result = matrix_power(matrix, exponent)\n",
    "        print(\"Matrix A^m is:\")\n",
    "        for row in result:\n",
    "            print(\" \".join(map(str, row)))\n",
    "    except ValueError as e:\n",
    "        print(f\"Error: {e}\")\n"
   ]
  },
  {
   "cell_type": "code",
   "execution_count": null,
   "id": "5930e8d8-9d4b-4258-a870-53052486fbde",
   "metadata": {},
   "outputs": [],
   "source": []
  }
 ],
 "metadata": {
  "kernelspec": {
   "display_name": "Python 3 (ipykernel)",
   "language": "python",
   "name": "python3"
  },
  "language_info": {
   "codemirror_mode": {
    "name": "ipython",
    "version": 3
   },
   "file_extension": ".py",
   "mimetype": "text/x-python",
   "name": "python",
   "nbconvert_exporter": "python",
   "pygments_lexer": "ipython3",
   "version": "3.12.3"
  }
 },
 "nbformat": 4,
 "nbformat_minor": 5
}
